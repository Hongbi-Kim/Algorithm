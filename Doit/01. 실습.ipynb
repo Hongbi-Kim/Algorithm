{
 "cells": [
  {
   "cell_type": "markdown",
   "id": "050f791e",
   "metadata": {},
   "source": [
    "## 01-1 알고리즘이란?\n",
    "### 조건문과 분기 - (1)\n",
    "- 조건문이란?: 컴퓨터 과학에서 조건문(條件文, conditional)이란 프로그래머가 명시한 불린 자료형 조건이 **참**인지 **거짓**인지에 따라 달라지는 계산이나 상황을 **수행**하는 프로그래밍 언어의 특징이다."
   ]
  },
  {
   "cell_type": "markdown",
   "id": "b9f81006",
   "metadata": {},
   "source": [
    "- 실습 1-1\n",
    "- `문제` : 세 정수를 입력받아 최댓값 구하기"
   ]
  },
  {
   "cell_type": "code",
   "execution_count": 1,
   "id": "dfabf41f",
   "metadata": {},
   "outputs": [
    {
     "name": "stdout",
     "output_type": "stream",
     "text": [
      "세 정수의 최댓값을 구합니다\n",
      "정수 a 값을 입력하세요: 1\n",
      "정수 b 값을 입력하세요: 3\n",
      "정수 c 값을 입력하세요: 2\n",
      "최댓값은 3 입니다.\n"
     ]
    }
   ],
   "source": [
    "print('세 정수의 최댓값을 구합니다')\n",
    "a = int(input('정수 a 값을 입력하세요: '))\n",
    "b = int(input('정수 b 값을 입력하세요: '))\n",
    "c = int(input('정수 c 값을 입력하세요: '))\n",
    "\n",
    "maximum = a\n",
    "if b > maximum:\n",
    "    maximum = b\n",
    "if c > maximum:\n",
    "    maximum = c\n",
    "\n",
    "#최댓값 출력\n",
    "print(f'최댓값은 {maximum} 입니다.')"
   ]
  },
  {
   "cell_type": "markdown",
   "id": "e82d1b0a",
   "metadata": {},
   "source": [
    "- **실습 1-3**\n",
    "- `문제` : 입력 받은 정숫값의 부호(양수, 음수, 0)를 판단하여 출력하는 프로그램\n",
    "- n이 양수면 **1**이, 음수면 **2**가, 0이면 **3**이 실행됨\n",
    "- 흐름이 3개로 분기됨"
   ]
  },
  {
   "cell_type": "code",
   "execution_count": 2,
   "id": "70649113",
   "metadata": {},
   "outputs": [
    {
     "name": "stdout",
     "output_type": "stream",
     "text": [
      "정수를 입력하세요: 17\n",
      "이 수는 양수 입니다\n"
     ]
    }
   ],
   "source": [
    "n= int(input('정수를 입력하세요: '))\n",
    "\n",
    "if n>0:\n",
    "    print('이 수는 양수 입니다')\n",
    "elif n<0:\n",
    "    print('이 수는 음수 입니다')\n",
    "else:\n",
    "    print('이 수는 0 입니다')"
   ]
  },
  {
   "cell_type": "markdown",
   "id": "b7dae5a4",
   "metadata": {},
   "source": [
    "- **실습 1-4** : 분기 3개\n",
    "- `문제` : 1일 때 A, 0보다 작을 때 B, 이외 C\n",
    "- `풀이`\n",
    "    - input() 함수를 이용하여 정수를 입력받는다.\n",
    "    - input() 함수의 반환값은 string 타입이다.\n",
    "    - int() 함수를 이용하여 정수로 변환한다."
   ]
  },
  {
   "cell_type": "code",
   "execution_count": 3,
   "id": "7560d7ae",
   "metadata": {},
   "outputs": [
    {
     "name": "stdout",
     "output_type": "stream",
     "text": [
      "정수를 입력하세요3\n",
      "C\n"
     ]
    }
   ],
   "source": [
    "num = int(input(\"정수를 입력하세요\"))\n",
    "\n",
    "if num == 1:\n",
    "    print(\"A\")\n",
    "elif num < 0:\n",
    "    print(\"B\")\n",
    "else:\n",
    "    print(\"C\")"
   ]
  },
  {
   "cell_type": "markdown",
   "id": "fc2d43e9",
   "metadata": {},
   "source": [
    "- **실습 1-5**"
   ]
  },
  {
   "cell_type": "code",
   "execution_count": 6,
   "id": "99f94ef3",
   "metadata": {},
   "outputs": [
    {
     "name": "stdout",
     "output_type": "stream",
     "text": [
      "정수를 입력하세요3\n",
      "C\n"
     ]
    }
   ],
   "source": [
    "num = int(input(\"정수를 입력하세요\"))\n",
    "\n",
    "if num == 1:\n",
    "    print(\"A\")\n",
    "elif num == 2:\n",
    "    print(\"B\")\n",
    "elif num == 3:\n",
    "    print(\"C\")"
   ]
  },
  {
   "cell_type": "markdown",
   "id": "f0418f4e",
   "metadata": {},
   "source": [
    "- **실습 1-6**"
   ]
  },
  {
   "cell_type": "code",
   "execution_count": 5,
   "id": "20e58d64",
   "metadata": {},
   "outputs": [
    {
     "name": "stdout",
     "output_type": "stream",
     "text": [
      "정수를 입력하세요4\n"
     ]
    }
   ],
   "source": [
    "num = int(input(\"정수를 입력하세요\"))\n",
    "\n",
    "if num == 1:\n",
    "    print(\"A\")\n",
    "elif num == 2:\n",
    "    print(\"B\")\n",
    "elif num == 3:\n",
    "    print(\"C\")\n",
    "else:\n",
    "    pass # 아무것도 수행하지 말고 그냥 지나치세요."
   ]
  },
  {
   "cell_type": "markdown",
   "id": "f2dc1d31",
   "metadata": {},
   "source": [
    "- **실습 1-7**\n",
    "- `문제` : 1부터 n까지 정수의 합 구하기(while 문)"
   ]
  },
  {
   "cell_type": "code",
   "execution_count": 8,
   "id": "fa5feb0e",
   "metadata": {},
   "outputs": [
    {
     "name": "stdout",
     "output_type": "stream",
     "text": [
      "1부터 n까지 정수의 합을 구합니다.\n",
      "n값을 입력하세요.: 5\n"
     ]
    }
   ],
   "source": [
    "print('1부터 n까지 정수의 합을 구합니다.')\n",
    "n = int(input('n값을 입력하세요.: '))\n",
    "\n",
    "sum = 0\n",
    "i = 1\n",
    "\n",
    "while i <= n:\n",
    "    sum += i\n",
    "    i += 1"
   ]
  },
  {
   "cell_type": "markdown",
   "id": "52e0ed9b",
   "metadata": {},
   "source": [
    "- **실습 1-8**\n",
    "- 1부터 n까지 정수의 합 구하기 (for 문)\n",
    "- 변수가 하나만 있을 때는 while 문보다 for 문을 사용하는 것이 좋다."
   ]
  },
  {
   "cell_type": "code",
   "execution_count": 4,
   "id": "7d000771",
   "metadata": {},
   "outputs": [
    {
     "name": "stdout",
     "output_type": "stream",
     "text": [
      "1부터 n까지 정수의 합을 구합니다.\n",
      "n값을 입력하세요.: 5\n",
      "1부터 5까지 정수의 합은 15입니다.\n"
     ]
    }
   ],
   "source": [
    "print('1부터 n까지 정수의 합을 구합니다.')\n",
    "n = int(input('n값을 입력하세요.: '))\n",
    "\n",
    "sum = 0\n",
    "for i in range(1, n+1):\n",
    "    sum += i   # sum에 i를 더함\n",
    "    \n",
    "print(f'1부터 {n}까지 정수의 합은 {sum}입니다.')"
   ]
  },
  {
   "cell_type": "markdown",
   "id": "adcc5a78",
   "metadata": {},
   "source": [
    "- **실습 1-9**\n",
    "- `문제` : a부터 b까지 정수의 합 구하기(for 문)\n",
    "- 연속하는 정수의 합을 구하기 위해 값 정렬하기\n",
    "  - 두 정수 a와 b를 오름차순으로 정렬한 다음 해당 범위의 모든 정수를 더함\n",
    "  - a가 b보다 크면 둘을 교환하여 a와 b를 오름차순으로 정렬\n",
    "  - a와 b 교환 시 단일 대입문 사용(' = ')"
   ]
  },
  {
   "cell_type": "code",
   "execution_count": null,
   "id": "969bbbb3",
   "metadata": {},
   "outputs": [],
   "source": [
    "print('a부터 b까지 정수의 합을 구합니다.')\n",
    "a = int(input('정수 a를 입력하세요.: '))\n",
    "b = int(input('정수 b를 입력하세요.: '))\n",
    "\n",
    "if a > b:\n",
    "    a, b = b, a # a와 b를 오름차순으로 정렬\n",
    "\n",
    "sum = 0\n",
    "for i in range(a, b+1):\n",
    "    sum += i     # sum에 i를 더함\n",
    "\n",
    "print(f'{a}부터 {b}까지 정수의 합은 {sum}입니다.')"
   ]
  },
  {
   "cell_type": "code",
   "execution_count": null,
   "id": "945038ed",
   "metadata": {},
   "outputs": [],
   "source": []
  },
  {
   "cell_type": "markdown",
   "id": "af0e411b",
   "metadata": {},
   "source": [
    "- **실습 1-10**\n",
    "- `문제` : a부터 b까지 정수의 합을 구하는 과정과 최종값을 출력하는 프로그램 짜기\n",
    "- `출력예시` : `3 + 4 + 5 + 6 + 7 = 25`"
   ]
  },
  {
   "cell_type": "code",
   "execution_count": 1,
   "id": "c05ba6a3",
   "metadata": {},
   "outputs": [
    {
     "name": "stdout",
     "output_type": "stream",
     "text": [
      "a부터 b까지 정수의 합을 구합니다.\n",
      "정수 a를 입력하세요.: 3\n",
      "정수 b를 입력하세요.: 7\n",
      "3 + 4 + 5 + 6 + 7 = 25\n"
     ]
    }
   ],
   "source": [
    "print('a부터 b까지 정수의 합을 구합니다.')\n",
    "a = int(input('정수 a를 입력하세요.: '))\n",
    "b = int(input('정수 b를 입력하세요.: '))\n",
    "\n",
    "if a > b:\n",
    "    a, b = b, a # a와 b를 오름차순으로 정렬\n",
    "\n",
    "sum = 0\n",
    "for i in range(a, b+1):\n",
    "    if i < b:                           # i가 b보다 작으면 합을 구하는 과정 출력\n",
    "        print(f'{i} + ', end = '')\n",
    "    else:                               # i가 b보다 크거나 같으면 최종값 출력을 위해 i =를 출력\n",
    "        print(f'{i} = ', end = '')\n",
    "    sum += i                            # sum에 i를 더함\n",
    "\n",
    "\n",
    "print(sum)"
   ]
  },
  {
   "cell_type": "code",
   "execution_count": null,
   "id": "2052872d",
   "metadata": {},
   "outputs": [],
   "source": []
  }
 ],
 "metadata": {
  "kernelspec": {
   "display_name": "Python 3",
   "language": "python",
   "name": "python3"
  },
  "language_info": {
   "codemirror_mode": {
    "name": "ipython",
    "version": 3
   },
   "file_extension": ".py",
   "mimetype": "text/x-python",
   "name": "python",
   "nbconvert_exporter": "python",
   "pygments_lexer": "ipython3",
   "version": "3.8.8"
  }
 },
 "nbformat": 4,
 "nbformat_minor": 5
}
