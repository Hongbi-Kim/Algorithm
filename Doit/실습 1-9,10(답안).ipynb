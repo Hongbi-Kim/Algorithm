{
 "cells": [
  {
   "cell_type": "markdown",
   "id": "9a2682a1",
   "metadata": {},
   "source": [
    "### 실습 1-9"
   ]
  },
  {
   "cell_type": "markdown",
   "id": "e10fa072",
   "metadata": {},
   "source": [
    "- `문제` : a부터 b까지 정수의 합 구하기(for 문)\n",
    "- 연속하는 정수의 합을 구하기 위해 값 정렬하기\n",
    "  - 두 정수 a와 b를 오름차순으로 정렬한 다음 해당 범위의 모든 정수를 더함\n",
    "  - a가 b보다 크면 둘을 교환하여 a와 b를 오름차순으로 정렬\n",
    "  - a와 b 교환 시 단일 대입문 사용(' = ')"
   ]
  },
  {
   "cell_type": "code",
   "execution_count": 1,
   "id": "4534b548",
   "metadata": {},
   "outputs": [
    {
     "name": "stdout",
     "output_type": "stream",
     "text": [
      "a부터 b까지 정수의 합을 구합니다.\n",
      "정수 a를 입력하세요.: 3\n",
      "정수 b를 입력하세요.: 4\n",
      "3부터 4까지 정수의 합은 7입니다.\n"
     ]
    }
   ],
   "source": [
    "print('a부터 b까지 정수의 합을 구합니다.')\n",
    "a = int(input('정수 a를 입력하세요.: '))\n",
    "b = int(input('정수 b를 입력하세요.: '))\n",
    "\n",
    "if a > b:\n",
    "    a, b = b, a # a와 b를 오름차순으로 정렬\n",
    "\n",
    "sum = 0\n",
    "for i in range(a, b+1):\n",
    "    sum += i     # sum에 i를 더함\n",
    "\n",
    "print(f'{a}부터 {b}까지 정수의 합은 {sum}입니다.')"
   ]
  },
  {
   "cell_type": "code",
   "execution_count": null,
   "id": "1a84724c",
   "metadata": {},
   "outputs": [],
   "source": []
  },
  {
   "cell_type": "markdown",
   "id": "873a5c6e",
   "metadata": {},
   "source": [
    "### 실습 1-10"
   ]
  },
  {
   "cell_type": "markdown",
   "id": "4e876554",
   "metadata": {},
   "source": [
    "- `문제` : a부터 b까지 정수의 합을 구하는 과정과 최종값을 출력하는 프로그램 짜기\n",
    "- `출력예시` : `3 + 4 + 5 + 6 + 7 = 25`"
   ]
  },
  {
   "cell_type": "code",
   "execution_count": 2,
   "id": "df7f679a",
   "metadata": {},
   "outputs": [
    {
     "name": "stdout",
     "output_type": "stream",
     "text": [
      "a부터 b까지 정수의 합을 구합니다.\n",
      "정수 a를 입력하세요.: 3\n",
      "정수 b를 입력하세요.: 7\n",
      "3 + 4 + 5 + 6 + 7 = 25\n"
     ]
    }
   ],
   "source": [
    "print('a부터 b까지 정수의 합을 구합니다.')\n",
    "a = int(input('정수 a를 입력하세요.: '))\n",
    "b = int(input('정수 b를 입력하세요.: '))\n",
    "\n",
    "if a > b:\n",
    "    a, b = b, a # a와 b를 오름차순으로 정렬\n",
    "\n",
    "sum = 0\n",
    "for i in range(a, b+1):\n",
    "    if i < b:                           # i가 b보다 작으면 합을 구하는 과정 출력\n",
    "        print(f'{i} + ', end = '')\n",
    "    else:                               # i가 b보다 크거나 같으면 최종값 출력을 위해 i =를 출력\n",
    "        print(f'{i} = ', end = '')\n",
    "    sum += i                            # sum에 i를 더함\n",
    "\n",
    "\n",
    "print(sum)"
   ]
  },
  {
   "cell_type": "code",
   "execution_count": null,
   "id": "d1fc4ca3",
   "metadata": {},
   "outputs": [],
   "source": []
  },
  {
   "cell_type": "markdown",
   "id": "099be669",
   "metadata": {},
   "source": [
    "- `문제점` : for문 반복이 n번, if문 판단도 n번 수행"
   ]
  }
 ],
 "metadata": {
  "kernelspec": {
   "display_name": "Python 3",
   "language": "python",
   "name": "python3"
  },
  "language_info": {
   "codemirror_mode": {
    "name": "ipython",
    "version": 3
   },
   "file_extension": ".py",
   "mimetype": "text/x-python",
   "name": "python",
   "nbconvert_exporter": "python",
   "pygments_lexer": "ipython3",
   "version": "3.8.8"
  }
 },
 "nbformat": 4,
 "nbformat_minor": 5
}
