{
 "cells": [
  {
   "cell_type": "markdown",
   "id": "b9f81006",
   "metadata": {},
   "source": [
    "- 1-1"
   ]
  },
  {
   "cell_type": "code",
   "execution_count": 1,
   "id": "dfabf41f",
   "metadata": {},
   "outputs": [
    {
     "name": "stdout",
     "output_type": "stream",
     "text": [
      "세 정수의 최댓값을 구합니다\n",
      "정수 a 값을 입력하세요: 1\n",
      "정수 b 값을 입력하세요: 3\n",
      "정수 c 값을 입력하세요: 2\n",
      "최댓값은 3 입니다.\n"
     ]
    }
   ],
   "source": [
    "print('세 정수의 최댓값을 구합니다')\n",
    "a = int(input('정수 a 값을 입력하세요: '))\n",
    "b = int(input('정수 b 값을 입력하세요: '))\n",
    "c = int(input('정수 c 값을 입력하세요: '))\n",
    "\n",
    "maximum = a\n",
    "if b > maximum:\n",
    "    maximum = b\n",
    "if c > maximum:\n",
    "    maximum = c\n",
    "\n",
    "#최댓값 출력\n",
    "print(f'최댓값은 {maximum} 입니다.')"
   ]
  },
  {
   "cell_type": "markdown",
   "id": "e82d1b0a",
   "metadata": {},
   "source": [
    "- **실습 1-3**\n",
    "- 입력 받은 정숫값의 부호(양수, 음수, 0)를 판단하여 출력하는 프로그램\n",
    "- n이 양수면 **1**이, 음수면 **2**가, 0이면 **3**이 실행됨\n",
    "- 흐름이 3개로 분기됨"
   ]
  },
  {
   "cell_type": "code",
   "execution_count": 2,
   "id": "70649113",
   "metadata": {},
   "outputs": [
    {
     "name": "stdout",
     "output_type": "stream",
     "text": [
      "정수를 입력하세요: 17\n",
      "이 수는 양수 입니다\n"
     ]
    }
   ],
   "source": [
    "n= int(input('정수를 입력하세요: '))\n",
    "\n",
    "if n>0:\n",
    "    print('이 수는 양수 입니다')\n",
    "elif n<0:\n",
    "    print('이 수는 음수 입니다')\n",
    "else:\n",
    "    print('이 수는 0 입니다')"
   ]
  },
  {
   "cell_type": "code",
   "execution_count": null,
   "id": "594c620b",
   "metadata": {},
   "outputs": [],
   "source": []
  },
  {
   "cell_type": "markdown",
   "id": "52e0ed9b",
   "metadata": {},
   "source": [
    "- **실습 1-8**\n",
    "- 1부터 n까지 정수의 합 구하기 (for 문)\n",
    "- 변수가 하나만 있을 때는 while 문보다 for 문을 사용하는 것이 좋다."
   ]
  },
  {
   "cell_type": "code",
   "execution_count": 4,
   "id": "7d000771",
   "metadata": {},
   "outputs": [
    {
     "name": "stdout",
     "output_type": "stream",
     "text": [
      "1부터 n까지 정수의 합을 구합니다.\n",
      "n값을 입력하세요.: 5\n",
      "1부터 5까지 정수의 합은 15입니다.\n"
     ]
    }
   ],
   "source": [
    "print('1부터 n까지 정수의 합을 구합니다.')\n",
    "n = int(input('n값을 입력하세요.: '))\n",
    "\n",
    "sum = 0\n",
    "for i in range(1, n+1):\n",
    "    sum += i   # sum에 i를 더함\n",
    "    \n",
    "print(f'1부터 {n}까지 정수의 합은 {sum}입니다.')"
   ]
  },
  {
   "cell_type": "markdown",
   "id": "adcc5a78",
   "metadata": {},
   "source": [
    "- **실습 1-9**\n",
    "- `문제` : a부터 b까지 정수의 합 구하기(for 문)\n",
    "- 연속하는 정수의 합을 구하기 위해 값 정렬하기\n",
    "  - 두 정수 a와 b를 오름차순으로 정렬한 다음 해당 범위의 모든 정수를 더함\n",
    "  - a가 b보다 크면 둘을 교환하여 a와 b를 오름차순으로 정렬\n",
    "  - a와 b 교환 시 단일 대입문 사용(' = ')"
   ]
  },
  {
   "cell_type": "code",
   "execution_count": null,
   "id": "969bbbb3",
   "metadata": {},
   "outputs": [],
   "source": []
  }
 ],
 "metadata": {
  "kernelspec": {
   "display_name": "Python 3",
   "language": "python",
   "name": "python3"
  },
  "language_info": {
   "codemirror_mode": {
    "name": "ipython",
    "version": 3
   },
   "file_extension": ".py",
   "mimetype": "text/x-python",
   "name": "python",
   "nbconvert_exporter": "python",
   "pygments_lexer": "ipython3",
   "version": "3.8.8"
  }
 },
 "nbformat": 4,
 "nbformat_minor": 5
}
