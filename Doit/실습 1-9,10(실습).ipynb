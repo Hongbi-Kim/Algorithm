{
 "cells": [
  {
   "cell_type": "markdown",
   "id": "2086e030",
   "metadata": {},
   "source": [
    "### 실습 1-9"
   ]
  },
  {
   "cell_type": "markdown",
   "id": "5533fee8",
   "metadata": {},
   "source": [
    "- `문제` : a부터 b까지 정수의 합 구하기(for 문)\n",
    "- 연속하는 정수의 합을 구하기 위해 값 정렬하기\n",
    "  - 두 정수 a와 b를 오름차순으로 정렬한 다음 해당 범위의 모든 정수를 더함\n",
    "  - a가 b보다 크면 둘을 교환하여 a와 b를 오름차순으로 정렬\n",
    "  - a와 b 교환 시 단일 대입문 사용(' = ')"
   ]
  },
  {
   "cell_type": "code",
   "execution_count": null,
   "id": "d1b044a4",
   "metadata": {},
   "outputs": [],
   "source": [
    "print('a부터 b까지 정수의 합을 구합니다.')\n",
    "a = int(input('정수 a를 입력하세요.: '))\n",
    "b = int(input('정수 b를 입력하세요.: '))\n",
    "\n",
    "########################################################\n",
    "\n",
    "\n",
    "\n",
    "\n",
    "#########################################################\n",
    "\n",
    "print(f'{a}부터 {b}까지 정수의 합은 {sum}입니다.')"
   ]
  },
  {
   "cell_type": "code",
   "execution_count": null,
   "id": "4c9f3547",
   "metadata": {},
   "outputs": [],
   "source": []
  },
  {
   "cell_type": "markdown",
   "id": "107298fa",
   "metadata": {},
   "source": [
    "### 실습 1-10"
   ]
  },
  {
   "cell_type": "markdown",
   "id": "1df171c5",
   "metadata": {},
   "source": [
    "- `문제` : a부터 b까지 정수의 합을 구하는 과정과 최종값을 출력하는 프로그램 짜기\n",
    "- `출력예시` : `3 + 4 + 5 + 6 + 7 = 25`"
   ]
  },
  {
   "cell_type": "code",
   "execution_count": null,
   "id": "fa9ec6ec",
   "metadata": {},
   "outputs": [],
   "source": [
    "print('a부터 b까지 정수의 합을 구합니다.')\n",
    "a = int(input('정수 a를 입력하세요.: '))\n",
    "b = int(input('정수 b를 입력하세요.: '))\n",
    "\n",
    "if a > b:\n",
    "    a, b = b, a # a와 b를 오름차순으로 정렬\n",
    "\n",
    "sum = 0\n",
    "for i in range(a, b+1):\n",
    "    ############################################\n",
    "   \n",
    "\n",
    "    \n",
    "    #############################################\n",
    "    sum += i     \n",
    "\n",
    "print(sum)"
   ]
  },
  {
   "cell_type": "code",
   "execution_count": null,
   "id": "9355b632",
   "metadata": {},
   "outputs": [],
   "source": []
  },
  {
   "cell_type": "markdown",
   "id": "4718b5fc",
   "metadata": {},
   "source": [
    "- `문제점` : for문 반복이 n번, if문 판단도 n번 수행"
   ]
  }
 ],
 "metadata": {
  "kernelspec": {
   "display_name": "Python 3",
   "language": "python",
   "name": "python3"
  },
  "language_info": {
   "codemirror_mode": {
    "name": "ipython",
    "version": 3
   },
   "file_extension": ".py",
   "mimetype": "text/x-python",
   "name": "python",
   "nbconvert_exporter": "python",
   "pygments_lexer": "ipython3",
   "version": "3.8.8"
  }
 },
 "nbformat": 4,
 "nbformat_minor": 5
}
